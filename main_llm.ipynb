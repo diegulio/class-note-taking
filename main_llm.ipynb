{
 "cells": [
  {
   "cell_type": "code",
   "execution_count": null,
   "id": "54b5ff72",
   "metadata": {},
   "outputs": [],
   "source": [
    "from langchain_mcp_adapters.client import MultiServerMCPClient\n",
    "from langgraph.prebuilt import create_react_agent\n",
    "from dotenv import load_dotenv\n",
    "\n",
    "# Load environment variables from .env file\n",
    "load_dotenv()"
   ]
  },
  {
   "cell_type": "code",
   "execution_count": null,
   "id": "cb8411e7",
   "metadata": {},
   "outputs": [],
   "source": [
    "\n",
    "client = MultiServerMCPClient(\n",
    "    {\n",
    "    \"notionApi\": {\n",
    "      \"command\": \"npx\",\n",
    "      \"args\": [\"-y\", \"@notionhq/notion-mcp-server\"],\n",
    "      \"env\": {\n",
    "        \"OPENAPI_MCP_HEADERS\": \"{\\\"Authorization\\\": \\\"Bearer ntn_***\\\", \\\"Notion-Version\\\": \\\"2022-06-28\\\" }\"\n",
    "      },\n",
    "      \"transport\": \"stdio\"\n",
    "    },\n",
    "    \"youtube\": {\n",
    "      \"command\": \"uv\",\n",
    "      \"args\": [\n",
    "        \"--directory\",\n",
    "        \"/Users/diegulio/Documents/GitHub/class-note-taking\",\n",
    "        \"run\",\n",
    "        \"main.py\"\n",
    "      ],\n",
    "      \"transport\": \"stdio\"\n",
    "   }\n",
    " }\n",
    ")"
   ]
  },
  {
   "cell_type": "code",
   "execution_count": null,
   "id": "e522bf19",
   "metadata": {},
   "outputs": [],
   "source": [
    "tools = await client.get_tools()"
   ]
  },
  {
   "cell_type": "code",
   "execution_count": null,
   "id": "88d1d125",
   "metadata": {},
   "outputs": [],
   "source": [
    "tools"
   ]
  },
  {
   "cell_type": "code",
   "execution_count": null,
   "id": "d333f59f",
   "metadata": {},
   "outputs": [],
   "source": [
    "agent = create_react_agent(\"openai:gpt-4.1\", tools)"
   ]
  },
  {
   "cell_type": "code",
   "execution_count": null,
   "id": "db658429",
   "metadata": {},
   "outputs": [],
   "source": [
    "response = await agent.ainvoke({\"messages\": [{\"role\": \"user\", \"content\": \"What is this video about? https://www.youtube.com/watch?v=z19HM7ANZlo\"}]})"
   ]
  },
  {
   "cell_type": "code",
   "execution_count": null,
   "id": "1f6ad9fe",
   "metadata": {},
   "outputs": [],
   "source": [
    "response"
   ]
  },
  {
   "cell_type": "code",
   "execution_count": null,
   "id": "d0809948",
   "metadata": {},
   "outputs": [],
   "source": [
    "response = await agent.ainvoke({\"messages\": [{\"role\": \"user\", \"content\": \"What is this video about? https://www.youtube.com/watch?v=z19HM7ANZlo, can you please write it in my notion page?\"}]})"
   ]
  },
  {
   "cell_type": "code",
   "execution_count": null,
   "id": "b8949ea3",
   "metadata": {},
   "outputs": [],
   "source": [
    "response"
   ]
  },
  {
   "cell_type": "code",
   "execution_count": null,
   "id": "ac1d13fa",
   "metadata": {},
   "outputs": [],
   "source": [
    "response = await agent.ainvoke({\"messages\": [{\"role\": \"user\", \"content\": \"Can you write something in my notion page called NLP With Deep Learning?\"}]})"
   ]
  },
  {
   "cell_type": "code",
   "execution_count": null,
   "id": "5645ed1e",
   "metadata": {},
   "outputs": [],
   "source": [
    "response"
   ]
  },
  {
   "cell_type": "code",
   "execution_count": null,
   "id": "c6ac31fd",
   "metadata": {},
   "outputs": [],
   "source": [
    "response = await agent.ainvoke({\"messages\": [{\"role\": \"user\", \"content\": \"What is this video about? https://www.youtube.com/watch?v=z19HM7ANZlo, can you please write a summary of it in my notion page, you can create a page called 'Youtube'?\"}]})"
   ]
  },
  {
   "cell_type": "code",
   "execution_count": null,
   "id": "3f8d7a4b",
   "metadata": {},
   "outputs": [],
   "source": [
    "response"
   ]
  },
  {
   "cell_type": "code",
   "execution_count": null,
   "id": "2e34c7c8",
   "metadata": {},
   "outputs": [],
   "source": [
    "response = await agent.ainvoke({\"messages\": [{\"role\": \"user\", \"content\": \"What is this video about? https://www.youtube.com/watch?v=z19HM7ANZlo, can you please write a summary of it in my notion page called like NLP With DeepLearning\"}]})"
   ]
  },
  {
   "cell_type": "code",
   "execution_count": null,
   "id": "a6c768fb",
   "metadata": {},
   "outputs": [],
   "source": [
    "response"
   ]
  },
  {
   "cell_type": "code",
   "execution_count": null,
   "id": "7470e167",
   "metadata": {},
   "outputs": [],
   "source": []
  }
 ],
 "metadata": {
  "kernelspec": {
   "display_name": "class-note-taking",
   "language": "python",
   "name": "python3"
  },
  "language_info": {
   "codemirror_mode": {
    "name": "ipython",
    "version": 3
   },
   "file_extension": ".py",
   "mimetype": "text/x-python",
   "name": "python",
   "nbconvert_exporter": "python",
   "pygments_lexer": "ipython3",
   "version": "3.13.0"
  }
 },
 "nbformat": 4,
 "nbformat_minor": 5
}
